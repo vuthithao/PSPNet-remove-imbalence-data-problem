{
 "cells": [
  {
   "cell_type": "code",
   "execution_count": null,
   "metadata": {},
   "outputs": [],
   "source": [
    "!ls"
   ]
  },
  {
   "cell_type": "code",
   "execution_count": null,
   "metadata": {},
   "outputs": [],
   "source": [
    "import os\n",
    "import keras\n",
    "from keras.models import model_from_json\n",
    "from scipy import misc, ndimage\n",
    "import imageio\n",
    "import skimage\n",
    "import numpy as np\n",
    "from keras.layers import Conv2D, Activation\n",
    "from keras.models import Model\n",
    "from keras.models import Sequential\n",
    "from layers_builder import Interp\n",
    "import layers_builder as layers"
   ]
  },
  {
   "cell_type": "markdown",
   "metadata": {},
   "source": [
    "### Load model"
   ]
  },
  {
   "cell_type": "code",
   "execution_count": null,
   "metadata": {},
   "outputs": [],
   "source": [
    "# print(\"Loanding model...\")\n",
    "# weights = \"pspnet101_cityscapes\"\n",
    "\n",
    "# # json_path = os.path.join(\"weights\", \"keras\", weights + \".json\")\n",
    "# # h5_path = os.path.join(\"weights\", \"keras\", weights + \".h5\")\n",
    "# h5_path = \"/home/thaovt7/workspace/PSPNet-Keras-tensorflow/weights_train/weight_cityscapes_last_layer/weights.150-20.10.h5\"\n",
    "\n",
    "# # with open(json_path, 'r') as file_handle:\n",
    "# #     model = model_from_json(file_handle.read())\n",
    "# model = layers.build_pspnet(nb_classes=5,\n",
    "#                             resnet_layers=101,\n",
    "#                             input_shape=(713,713))\n",
    "\n",
    "# model.load_weights(h5_path)\n",
    "# print(model.summary())"
   ]
  },
  {
   "cell_type": "code",
   "execution_count": null,
   "metadata": {},
   "outputs": [],
   "source": [
    "print(\"Loanding model...\")\n",
    "weights = \"pspnet101_cityscapes\"\n",
    "\n",
    "h5_path = \"/home/thaovt7/workspace/PSPNet-Keras-tensorflow/weights_train/weight_cityscapes_last_layer/weights.150-20.10.h5\"\n",
    "model = layers.build_pspnet(nb_classes=5,\n",
    "                            resnet_layers=101,\n",
    "                            input_shape=(713,713))\n",
    "model.load_weights(h5_path)\n",
    "\n",
    "new_model = layers.build_pspnet(nb_classes=5,\n",
    "                            resnet_layers=101,\n",
    "                            input_shape=(233,233))\n",
    "new_model.set_weights(model.get_weights())\n",
    "# for layer in new_model.layers[:382]:\n",
    "#     layer.trainable = False\n",
    "print(new_model.summary())\n"
   ]
  },
  {
   "cell_type": "markdown",
   "metadata": {},
   "source": [
    "### Test prediction"
   ]
  },
  {
   "cell_type": "code",
   "execution_count": null,
   "metadata": {
    "scrolled": true
   },
   "outputs": [],
   "source": [
    "from skimage.transform import rescale, resize\n",
    "\n",
    "img_path = \"/home/thaovt7/workspace/Dataset/imgs_test/cityscapes/aachen_000020_000019_leftImg8bit.png\"\n",
    "# \"/home/thaovt7/workspace/Dataset/imgs/annotation_1/20_0_202id_mah04071_00h02m33s_004591.png.png\"\n",
    "input_size = 233\n",
    "print(\"Processing image {}\".format(img_path))\n",
    "img = misc.imread(img_path, mode='RGB')\n",
    "# img = imageio.imread(img_path, pilmode=\"RGB\")\n",
    "# cimg = misc.imresize(img, (input_size, input_size))\n",
    "cimg = misc.imresize(img, (233, 233))\n",
    "# cimg = resize(img, (input_size, input_size), mode='reflect', anti_aliasing=False)\n"
   ]
  },
  {
   "cell_type": "code",
   "execution_count": null,
   "metadata": {
    "scrolled": true
   },
   "outputs": [],
   "source": [
    "img.shape"
   ]
  },
  {
   "cell_type": "code",
   "execution_count": null,
   "metadata": {},
   "outputs": [],
   "source": [
    "# These are the means for the ImageNet pretrained ResNet\n",
    "DATA_MEAN = np.array([[[123.68, 116.779, 103.939]]])  # RGB order\n",
    "\n",
    "cimg = cimg - DATA_MEAN\n",
    "cimg = cimg[:, :, ::-1]  # RGB => BGR\n",
    "cimg = cimg.astype('float32')"
   ]
  },
  {
   "cell_type": "code",
   "execution_count": null,
   "metadata": {},
   "outputs": [],
   "source": [
    "# cimg1 = cimg[-234:-1,-234:-1,:]\n",
    "# # cimg1 = cimg[-234:-1,:233,:]\n",
    "# # cimg1 = cimg[:233,:233,:]\n",
    "# # cimg1 = cimg[-234:-1,250:250+233,:]"
   ]
  },
  {
   "cell_type": "code",
   "execution_count": null,
   "metadata": {},
   "outputs": [],
   "source": []
  },
  {
   "cell_type": "code",
   "execution_count": null,
   "metadata": {},
   "outputs": [],
   "source": [
    "# cimg1.shape"
   ]
  },
  {
   "cell_type": "code",
   "execution_count": null,
   "metadata": {
    "scrolled": true
   },
   "outputs": [],
   "source": [
    "print(\"Predicting...\")\n",
    "prediction = new_model.predict(np.expand_dims(cimg, 0))[0]"
   ]
  },
  {
   "cell_type": "code",
   "execution_count": null,
   "metadata": {},
   "outputs": [],
   "source": [
    "h_ori, w_ori = img.shape[:2]\n",
    "h, w = prediction.shape[:2]\n",
    "# prediction = ndimage.zoom(prediction, (1. * h_ori / h, 1. * w_ori / w, 1.),\n",
    "#                                  order=1, prefilter=False)\n",
    "prediction = ndimage.zoom(prediction, (1. * h_ori / (h), 1. * w_ori / (w), 1.),\n",
    "                                 order=1, prefilter=False)\n",
    "cimg = cimg + DATA_MEAN\n",
    "cimg = cimg[:, :, ::-1]  # RGB => BGR\n",
    "cimg = cimg.astype('float32')\n",
    "recimg = misc.imresize(cimg, (341, 683))"
   ]
  },
  {
   "cell_type": "code",
   "execution_count": null,
   "metadata": {},
   "outputs": [],
   "source": [
    "# h_ori, w_ori = img.shape[:2]\n",
    "# h, w = prediction.shape[:2]\n",
    "# # prediction = ndimage.zoom(prediction, (1. * h_ori / h, 1. * w_ori / w, 1.),\n",
    "# #                                  order=1, prefilter=False)\n",
    "# prediction = ndimage.zoom(prediction, (1. * h_ori / (h), 1. * w_ori / (w), 1.),\n",
    "#                                  order=1, prefilter=False)\n",
    "# cimg1 = cimg1 + DATA_MEAN\n",
    "# cimg1 = cimg1[:, :, ::-1]  # RGB => BGR\n",
    "# cimg1 = cimg1.astype('float32')\n",
    "# recimg = misc.imresize(cimg1, (341, 683))"
   ]
  },
  {
   "cell_type": "code",
   "execution_count": null,
   "metadata": {},
   "outputs": [],
   "source": [
    "prediction.shape"
   ]
  },
  {
   "cell_type": "code",
   "execution_count": null,
   "metadata": {},
   "outputs": [],
   "source": [
    "cm = np.argmax(prediction, axis=2)"
   ]
  },
  {
   "cell_type": "code",
   "execution_count": null,
   "metadata": {},
   "outputs": [],
   "source": [
    "np.unique(cm)"
   ]
  },
  {
   "cell_type": "code",
   "execution_count": null,
   "metadata": {},
   "outputs": [],
   "source": [
    "from python_utils import utils\n",
    "color_cm = utils.add_color(cm)\n"
   ]
  },
  {
   "cell_type": "code",
   "execution_count": null,
   "metadata": {},
   "outputs": [],
   "source": [
    "np.unique(color_cm)"
   ]
  },
  {
   "cell_type": "code",
   "execution_count": null,
   "metadata": {},
   "outputs": [],
   "source": [
    "misc.imsave(\"result_5_713_150epoch.jpg\",color_cm)"
   ]
  },
  {
   "cell_type": "markdown",
   "metadata": {},
   "source": [
    "# Display images"
   ]
  },
  {
   "cell_type": "code",
   "execution_count": null,
   "metadata": {},
   "outputs": [],
   "source": [
    "\n",
    "from PIL import Image\n",
    "im = Image.fromarray(np.uint8(recimg))\n",
    "im.show()"
   ]
  },
  {
   "cell_type": "markdown",
   "metadata": {},
   "source": [
    "### display mask"
   ]
  },
  {
   "cell_type": "code",
   "execution_count": null,
   "metadata": {},
   "outputs": [],
   "source": [
    "from PIL import Image\n",
    "mask_im = Image.fromarray(np.uint8(color_cm))\n",
    "mask_im.show()"
   ]
  },
  {
   "cell_type": "code",
   "execution_count": null,
   "metadata": {},
   "outputs": [],
   "source": [
    "im.resize??"
   ]
  },
  {
   "cell_type": "code",
   "execution_count": null,
   "metadata": {},
   "outputs": [],
   "source": [
    "/home/thaovt7/workspace/Dataset/imgs/annotation/20_0_202id_mah04071_00h18m23s_033075.png.png"
   ]
  }
 ],
 "metadata": {
  "kernelspec": {
   "display_name": "pspnet",
   "language": "python",
   "name": "pspnet"
  },
  "language_info": {
   "codemirror_mode": {
    "name": "ipython",
    "version": 3
   },
   "file_extension": ".py",
   "mimetype": "text/x-python",
   "name": "python",
   "nbconvert_exporter": "python",
   "pygments_lexer": "ipython3",
   "version": "3.5.5"
  }
 },
 "nbformat": 4,
 "nbformat_minor": 2
}

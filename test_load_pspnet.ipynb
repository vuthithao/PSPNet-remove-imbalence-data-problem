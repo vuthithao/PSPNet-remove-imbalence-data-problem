{
 "cells": [
  {
   "cell_type": "markdown",
   "metadata": {},
   "source": [
    "## Test load model"
   ]
  },
  {
   "cell_type": "code",
   "execution_count": 1,
   "metadata": {},
   "outputs": [],
   "source": [
    "import numpy as np\n",
    "import cv2\n",
    "\n",
    "# Load an color image in grayscale\n",
    "img = cv2.imread('/home/thaovt7/workspace/Dataset/Eye_original/maps_bordered/20_1em_20_170120_-100727_00h18m31s_033082.png.png')"
   ]
  },
  {
   "cell_type": "code",
   "execution_count": 2,
   "metadata": {},
   "outputs": [
    {
     "data": {
      "text/plain": [
       "array([  0,  35,  50,  64,  81,  85, 103, 114, 115, 127, 128, 208, 232,\n",
       "       244, 255], dtype=uint8)"
      ]
     },
     "execution_count": 2,
     "metadata": {},
     "output_type": "execute_result"
    }
   ],
   "source": [
    "np.unique(img)"
   ]
  },
  {
   "cell_type": "code",
   "execution_count": null,
   "metadata": {},
   "outputs": [],
   "source": [
    "model = model_from_json(\"weights/keras/pspnet101_cityscapes.json\")"
   ]
  },
  {
   "cell_type": "code",
   "execution_count": null,
   "metadata": {},
   "outputs": [],
   "source": [
    "from keras.models import load_model"
   ]
  },
  {
   "cell_type": "code",
   "execution_count": null,
   "metadata": {},
   "outputs": [],
   "source": [
    "load_model(\"weights/keras/pspnet101_cityscapes.h5\")"
   ]
  },
  {
   "cell_type": "code",
   "execution_count": null,
   "metadata": {},
   "outputs": [],
   "source": [
    "from keras.utils.generic_utils import CustomObjectScope"
   ]
  },
  {
   "cell_type": "code",
   "execution_count": 1,
   "metadata": {},
   "outputs": [
    {
     "name": "stderr",
     "output_type": "stream",
     "text": [
      "Using TensorFlow backend.\n"
     ]
    }
   ],
   "source": [
    "import keras"
   ]
  },
  {
   "cell_type": "code",
   "execution_count": 4,
   "metadata": {},
   "outputs": [],
   "source": [
    "from keras.models import model_from_json"
   ]
  },
  {
   "cell_type": "code",
   "execution_count": 5,
   "metadata": {},
   "outputs": [],
   "source": [
    "json_path = \"weights/keras/pspnet101_cityscapes.json\"\n",
    "h5_path = \"weights/keras/pspnet101_cityscapes.h5\""
   ]
  },
  {
   "cell_type": "code",
   "execution_count": 6,
   "metadata": {},
   "outputs": [],
   "source": [
    "with open(json_path, 'r') as file_handle:\n",
    "    model = model_from_json(file_handle.read())\n",
    "model.load_weights(h5_path)"
   ]
  },
  {
   "cell_type": "code",
   "execution_count": 8,
   "metadata": {},
   "outputs": [],
   "source": [
    "keras.utils.plot_model(model, to_file=\"model.png\", show_shapes=True, show_layer_names=True)"
   ]
  },
  {
   "cell_type": "markdown",
   "metadata": {},
   "source": [
    "## Test generator"
   ]
  },
  {
   "cell_type": "code",
   "execution_count": 1,
   "metadata": {},
   "outputs": [],
   "source": [
    "import os\n",
    "import os\n",
    "import random\n",
    "import numpy as np\n",
    "from scipy.misc import imresize, imread\n",
    "from scipy.ndimage import zoom\n",
    "from collections import defaultdict\n",
    "datadir='/home/thaovt7/workspace/Dataset'\n",
    "test_nmb =50\n",
    "separator='_'"
   ]
  },
  {
   "cell_type": "code",
   "execution_count": 2,
   "metadata": {},
   "outputs": [],
   "source": [
    "def preprocess_img(img, input_shape):\n",
    "    img = imresize(img, input_shape)\n",
    "    img = img - DATA_MEAN\n",
    "    img = img[:, :, ::-1]\n",
    "    img.astype('float32')\n",
    "    return img\n",
    "\n",
    "def update_inputs(batch_size = None, input_size = None, num_classes = None):\n",
    "  return np.zeros([batch_size, input_size[0], input_size[1], 3]), \\\n",
    "    np.zeros([batch_size, input_size[0], input_size[1], num_classes])"
   ]
  },
  {
   "cell_type": "code",
   "execution_count": 4,
   "metadata": {},
   "outputs": [
    {
     "name": "stdout",
     "output_type": "stream",
     "text": [
      "61965\n"
     ]
    }
   ],
   "source": [
    "if not os.path.exists(datadir):\n",
    "    print(\"ERROR!The folder is not exist\")\n",
    "#listdir = os.listdir(datadir)\n",
    "data = defaultdict(dict)\n",
    "# # img from cityscapes\n",
    "# image_dir = os.path.join(datadir, \"imgs/cityscapes\")\n",
    "# image_paths = os.listdir(image_dir)\n",
    "# for image_path in image_paths:\n",
    "#     nmb = image_path.split('.')[0]\n",
    "#     data[nmb]['image'] = image_path\n",
    "\n",
    "# # image from apollo\n",
    "# image_dir = os.path.join(datadir, \"imgs/apollo\")\n",
    "# image_paths = os.listdir(image_dir)\n",
    "# for image_path in image_paths:\n",
    "#     nmb = image_path.split('.')[0]\n",
    "#     data[nmb]['image'] = image_path\n",
    "\n",
    "# image from augument\n",
    "image_dir = os.path.join(datadir, \"imgs/annotation\")\n",
    "image_paths = os.listdir(image_dir)\n",
    "for image_path in image_paths:\n",
    "    nmb = image_path.split('.')[0]\n",
    "    data[nmb]['image'] = image_path\n",
    "\n",
    "# # anno from cityscapes\n",
    "# anno_dir = os.path.join(datadir, \"maps_bordered/cityscapes\")\n",
    "# anno_paths = os.listdir(anno_dir)\n",
    "# for anno_path in anno_paths:\n",
    "#     nmb = anno_path.split('.')[0]\n",
    "#     data[nmb]['anno'] = anno_path\n",
    "\n",
    "# # anno from apollo\n",
    "# anno_dir = os.path.join(datadir, \"maps_bordered/apollo\")\n",
    "# anno_paths = os.listdir(anno_dir)\n",
    "# for anno_path in anno_paths:\n",
    "#     nmb = anno_path.split('.')[0]\n",
    "#     data[nmb]['anno'] = anno_path\n",
    "\n",
    "# anno from augument\n",
    "anno_dir = os.path.join(datadir, \"maps_bordered/annotation\")\n",
    "anno_paths = os.listdir(anno_dir)\n",
    "for anno_path in anno_paths:\n",
    "    nmb = anno_path.split('.')[0]\n",
    "    data[nmb]['anno'] = anno_path\n",
    "\n",
    "\n",
    "values = list(data.values())\n",
    "random.shuffle(values)\n",
    "print(len(values))\n",
    "test_nmb = int(len(values)/10)\n",
    "#print(test_nmb)"
   ]
  },
  {
   "cell_type": "code",
   "execution_count": 6,
   "metadata": {
    "scrolled": true
   },
   "outputs": [
    {
     "name": "stdout",
     "output_type": "stream",
     "text": [
      "/home/thaovt7/workspace/Dataset/maps_bordered/annotation/20_21_206th_mah04082_00h10m04s_018104.png.png\n"
     ]
    },
    {
     "name": "stderr",
     "output_type": "stream",
     "text": [
      "/home/thaovt7/anaconda3/lib/python3.6/site-packages/ipykernel_launcher.py:23: DeprecationWarning: `imread` is deprecated!\n",
      "`imread` is deprecated in SciPy 1.0.0, and will be removed in 1.2.0.\n",
      "Use ``imageio.imread`` instead.\n",
      "/home/thaovt7/anaconda3/lib/python3.6/site-packages/ipykernel_launcher.py:23: DeprecationWarning: `imresize` is deprecated!\n",
      "`imresize` is deprecated in SciPy 1.0.0, and will be removed in 1.2.0.\n",
      "Use ``skimage.transform.resize`` instead.\n",
      "/home/thaovt7/anaconda3/lib/python3.6/site-packages/ipykernel_launcher.py:24: DeprecationWarning: `imread` is deprecated!\n",
      "`imread` is deprecated in SciPy 1.0.0, and will be removed in 1.2.0.\n",
      "Use ``imageio.imread`` instead.\n"
     ]
    },
    {
     "name": "stdout",
     "output_type": "stream",
     "text": [
      "[  0  33  90 119]\n",
      "[0 1 2 4]\n",
      "/home/thaovt7/workspace/Dataset/maps_bordered/annotation/20_15_202id_mah04071_00h09m17s_016697.png.png\n",
      "[  0  33  90 119]\n",
      "[0 1 2 4]\n",
      "/home/thaovt7/workspace/Dataset/maps_bordered/annotation/20_2_204ty_mah00135_00h39m47s_071540.png.png\n",
      "[  0  33  90 119]\n",
      "[0 1 2 4]\n",
      "/home/thaovt7/workspace/Dataset/maps_bordered/annotation/20_11_202id_mah04071_00h28m28s_051201.png.png\n",
      "[  0  33  90 119]\n",
      "[0 1 2 4]\n",
      "/home/thaovt7/workspace/Dataset/maps_bordered/annotation/20_3_206th_mah04082_00h11m04s_019923.png.png\n",
      "[  0  33  90 119]\n",
      "[0 1 2 4]\n",
      "/home/thaovt7/workspace/Dataset/maps_bordered/annotation/20_25_205yy_mah04081_00h23m19s_041941.png.png\n",
      "[  0  33  90 119]\n",
      "[0 1 2 4]\n",
      "/home/thaovt7/workspace/Dataset/maps_bordered/annotation/20_18_205yy_mah04081_00h41m05s_073905.png.png\n",
      "[  0  33  90 119]\n",
      "[0 1 2 4]\n",
      "/home/thaovt7/workspace/Dataset/maps_bordered/annotation/20_11_204ty_mah00135_00h38m37s_069464.png.png\n",
      "[  0  33  90 119]\n",
      "[0 1 2 4]\n",
      "/home/thaovt7/workspace/Dataset/maps_bordered/annotation/20_34_206th_mah04082_00h20m41s_037211.png.png\n",
      "[  0  33  90 119]\n",
      "[0 1 2 4]\n",
      "/home/thaovt7/workspace/Dataset/maps_bordered/annotation/20_36_206th_mah04082_00h23m43s_042671.png.png\n",
      "[  0  33  90 119]\n",
      "[0 1 2 4]\n",
      "/home/thaovt7/workspace/Dataset/maps_bordered/annotation/20_46_205yy_mah04081_00h40m55s_073589.png.png\n",
      "[  0  33  90 119]\n",
      "[0 1 2 4]\n",
      "/home/thaovt7/workspace/Dataset/maps_bordered/annotation/20_9_202id_mah04071_00h08m05s_014560.png.png\n",
      "[  0  33  90 119]\n",
      "[0 1 2 4]\n",
      "/home/thaovt7/workspace/Dataset/maps_bordered/annotation/20_10_204ty_mah00135_00h28m11s_050702.png.png\n",
      "[  0  33  90 119]\n",
      "[0 1 2 4]\n",
      "/home/thaovt7/workspace/Dataset/maps_bordered/annotation/20_19_202id_mah04071_00h04m14s_007634.png.png\n",
      "[  0  33  90 119]\n",
      "[0 1 2 4]\n",
      "/home/thaovt7/workspace/Dataset/maps_bordered/annotation/20_5_205yy_mah04081_00h21m02s_037826.png.png\n",
      "[  0  33  90 119]\n",
      "[0 1 2 4]\n",
      "/home/thaovt7/workspace/Dataset/maps_bordered/annotation/20_19_204ty_mah00135_00h45m46s_082319.png.png\n",
      "[  0  33  90 119]\n",
      "[0 1 2 4]\n",
      "/home/thaovt7/workspace/Dataset/maps_bordered/annotation/20_42_204ty_mah00135_00h53m46s_096690.png.png\n",
      "[  0  33  90 119]\n",
      "[0 1 2 4]\n",
      "/home/thaovt7/workspace/Dataset/maps_bordered/annotation/20_41_202id_mah04071_00h42m11s_075865.png.png\n",
      "[  0  33  90 119]\n",
      "[0 1 2 4]\n",
      "/home/thaovt7/workspace/Dataset/maps_bordered/annotation/20_8_206th_mah04082_00h12m05s_021743.png.png\n",
      "[  0  33  90 119]\n",
      "[0 1 2 4]\n",
      "/home/thaovt7/workspace/Dataset/maps_bordered/annotation/20_47_202id_mah04071_00h34m26s_061947.png.png\n",
      "[  0  33  90 119]\n",
      "[0 1 2 4]\n",
      "/home/thaovt7/workspace/Dataset/maps_bordered/annotation/20_40_202id_mah04071_00h11m22s_020451.png.png\n",
      "[  0  33  90 119]\n",
      "[0 1 2 4]\n",
      "/home/thaovt7/workspace/Dataset/maps_bordered/annotation/20_11_201em_mah04062_00h00m47s_001438.png.png\n",
      "[  0  33  90 119]\n",
      "[0 1 2 4]\n",
      "/home/thaovt7/workspace/Dataset/maps_bordered/annotation/20_23_205yy_mah04081_00h35m38s_064094.png.png\n",
      "[  0  33  90 119]\n",
      "[0 1 2 4]\n",
      "/home/thaovt7/workspace/Dataset/maps_bordered/annotation/20_21_204ty_mah00135_00h18m38s_033536.png.png\n",
      "[ 0 33 90]\n",
      "[0 2 4]\n",
      "/home/thaovt7/workspace/Dataset/maps_bordered/annotation/20_4_205yy_mah04081_00h35m38s_064094.png.png\n",
      "[  0  33  90 119]\n",
      "[0 1 2 4]\n",
      "/home/thaovt7/workspace/Dataset/maps_bordered/annotation/20_28_202id_mah04071_00h32m58s_059292.png.png\n",
      "[ 0 33 90]\n",
      "[0 2 4]\n",
      "/home/thaovt7/workspace/Dataset/maps_bordered/annotation/20_15_204ty_mah00135_00h25m34s_045991.png.png\n",
      "[  0  33  90 119]\n",
      "[0 1 2 4]\n",
      "/home/thaovt7/workspace/Dataset/maps_bordered/annotation/20_32_202id_mah04071_00h35m42s_064212.png.png\n",
      "[  0  33  90 119]\n",
      "[0 1 2 4]\n",
      "/home/thaovt7/workspace/Dataset/maps_bordered/annotation/20_46_202id_mah04071_00h46m08s_082986.png.png\n",
      "[  0  33  90 119]\n",
      "[0 1 2 4]\n",
      "/home/thaovt7/workspace/Dataset/maps_bordered/annotation/20_22_206th_mah04082_00h38m54s_069967.png.png\n",
      "[ 0 33 90]\n",
      "[0 2 4]\n",
      "/home/thaovt7/workspace/Dataset/maps_bordered/annotation/20_34_201em_mah04061_00h00m35s_001078.png.png\n",
      "[  0  90 119]\n",
      "[0 1 4]\n",
      "/home/thaovt7/workspace/Dataset/maps_bordered/annotation/20_49_202id_mah04071_00h33m11s_059681.png.png\n",
      "[  0  33  90 119]\n",
      "[0 1 2 4]\n",
      "/home/thaovt7/workspace/Dataset/maps_bordered/annotation/20_40_204ty_mah00135_00h49m46s_089504.png.png\n"
     ]
    },
    {
     "name": "stderr",
     "output_type": "stream",
     "text": [
      "/home/thaovt7/anaconda3/lib/python3.6/site-packages/scipy/ndimage/interpolation.py:616: UserWarning: From scipy 0.13.0, the output shape of zoom() is calculated with round() instead of int() - for these inputs the size of the returned array has changed.\n",
      "  \"the returned array has changed.\", UserWarning)\n"
     ]
    },
    {
     "name": "stdout",
     "output_type": "stream",
     "text": [
      "[  0  33  90 119]\n",
      "[0 1 2 4]\n",
      "/home/thaovt7/workspace/Dataset/maps_bordered/annotation/20_28_202id_mah04071_00h46m08s_082986.png.png\n",
      "[  0  33  90 119]\n",
      "[0 1 2 4]\n",
      "/home/thaovt7/workspace/Dataset/maps_bordered/annotation/20_17_204ty_mah00135_00h44m40s_080323.png.png\n",
      "[  0  33  90 119]\n",
      "[0 1 2 4]\n",
      "/home/thaovt7/workspace/Dataset/maps_bordered/annotation/20_15_202id_mah04071_00h18m14s_032816.png.png\n",
      "[  0  33  90 119]\n",
      "[0 1 2 4]\n",
      "/home/thaovt7/workspace/Dataset/maps_bordered/annotation/20_17_204ty_mah00135_00h09m06s_016370.png.png\n",
      "[ 0 33 90]\n",
      "[0 2 4]\n",
      "/home/thaovt7/workspace/Dataset/maps_bordered/annotation/20_21_205yy_mah04081_00h21m54s_039409.png.png\n",
      "[  0  33  90 119]\n",
      "[0 1 2 4]\n",
      "/home/thaovt7/workspace/Dataset/maps_bordered/annotation/20_16_204ty_mah00135_00h50m23s_090622.png.png\n",
      "[  0  33  90 119]\n",
      "[0 1 2 4]\n",
      "/home/thaovt7/workspace/Dataset/maps_bordered/annotation/20_24_202id_mah04071_00h35m53s_064536.png.png\n"
     ]
    },
    {
     "ename": "KeyboardInterrupt",
     "evalue": "",
     "output_type": "error",
     "traceback": [
      "\u001b[0;31m---------------------------------------------------------------------------\u001b[0m",
      "\u001b[0;31mKeyboardInterrupt\u001b[0m                         Traceback (most recent call last)",
      "\u001b[0;32m<ipython-input-6-b4ed7923b1c1>\u001b[0m in \u001b[0;36m<module>\u001b[0;34m()\u001b[0m\n\u001b[1;32m     22\u001b[0m         \u001b[0mprint\u001b[0m\u001b[0;34m(\u001b[0m\u001b[0mos\u001b[0m\u001b[0;34m.\u001b[0m\u001b[0mpath\u001b[0m\u001b[0;34m.\u001b[0m\u001b[0mjoin\u001b[0m\u001b[0;34m(\u001b[0m\u001b[0manno_dir\u001b[0m\u001b[0;34m,\u001b[0m \u001b[0md\u001b[0m\u001b[0;34m[\u001b[0m\u001b[0;34m'anno'\u001b[0m\u001b[0;34m]\u001b[0m\u001b[0;34m)\u001b[0m\u001b[0;34m)\u001b[0m\u001b[0;34m\u001b[0m\u001b[0m\n\u001b[1;32m     23\u001b[0m         \u001b[0mimg\u001b[0m \u001b[0;34m=\u001b[0m \u001b[0mimresize\u001b[0m\u001b[0;34m(\u001b[0m\u001b[0mimread\u001b[0m\u001b[0;34m(\u001b[0m\u001b[0mos\u001b[0m\u001b[0;34m.\u001b[0m\u001b[0mpath\u001b[0m\u001b[0;34m.\u001b[0m\u001b[0mjoin\u001b[0m\u001b[0;34m(\u001b[0m\u001b[0mimage_dir\u001b[0m\u001b[0;34m,\u001b[0m \u001b[0md\u001b[0m\u001b[0;34m[\u001b[0m\u001b[0;34m'image'\u001b[0m\u001b[0;34m]\u001b[0m\u001b[0;34m)\u001b[0m\u001b[0;34m,\u001b[0m \u001b[0mmode\u001b[0m\u001b[0;34m=\u001b[0m\u001b[0;34m'RGB'\u001b[0m\u001b[0;34m)\u001b[0m\u001b[0;34m,\u001b[0m \u001b[0minput_size\u001b[0m\u001b[0;34m)\u001b[0m\u001b[0;34m\u001b[0m\u001b[0m\n\u001b[0;32m---> 24\u001b[0;31m         \u001b[0my\u001b[0m \u001b[0;34m=\u001b[0m \u001b[0mimread\u001b[0m\u001b[0;34m(\u001b[0m\u001b[0mos\u001b[0m\u001b[0;34m.\u001b[0m\u001b[0mpath\u001b[0m\u001b[0;34m.\u001b[0m\u001b[0mjoin\u001b[0m\u001b[0;34m(\u001b[0m\u001b[0manno_dir\u001b[0m\u001b[0;34m,\u001b[0m \u001b[0md\u001b[0m\u001b[0;34m[\u001b[0m\u001b[0;34m'anno'\u001b[0m\u001b[0;34m]\u001b[0m\u001b[0;34m)\u001b[0m\u001b[0;34m,\u001b[0m \u001b[0mmode\u001b[0m\u001b[0;34m=\u001b[0m\u001b[0;34m'L'\u001b[0m\u001b[0;34m)\u001b[0m\u001b[0;34m\u001b[0m\u001b[0m\n\u001b[0m\u001b[1;32m     25\u001b[0m         \u001b[0mh\u001b[0m\u001b[0;34m,\u001b[0m \u001b[0mw\u001b[0m \u001b[0;34m=\u001b[0m \u001b[0minput_size\u001b[0m\u001b[0;34m\u001b[0m\u001b[0m\n\u001b[1;32m     26\u001b[0m         \u001b[0;31m#   #print(y)\u001b[0m\u001b[0;34m\u001b[0m\u001b[0;34m\u001b[0m\u001b[0m\n",
      "\u001b[0;32m~/anaconda3/lib/python3.6/site-packages/numpy/lib/utils.py\u001b[0m in \u001b[0;36mnewfunc\u001b[0;34m(*args, **kwds)\u001b[0m\n\u001b[1;32m     99\u001b[0m             \u001b[0;34m\"\"\"`arrayrange` is deprecated, use `arange` instead!\"\"\"\u001b[0m\u001b[0;34m\u001b[0m\u001b[0m\n\u001b[1;32m    100\u001b[0m             \u001b[0mwarnings\u001b[0m\u001b[0;34m.\u001b[0m\u001b[0mwarn\u001b[0m\u001b[0;34m(\u001b[0m\u001b[0mdepdoc\u001b[0m\u001b[0;34m,\u001b[0m \u001b[0mDeprecationWarning\u001b[0m\u001b[0;34m,\u001b[0m \u001b[0mstacklevel\u001b[0m\u001b[0;34m=\u001b[0m\u001b[0;36m2\u001b[0m\u001b[0;34m)\u001b[0m\u001b[0;34m\u001b[0m\u001b[0m\n\u001b[0;32m--> 101\u001b[0;31m             \u001b[0;32mreturn\u001b[0m \u001b[0mfunc\u001b[0m\u001b[0;34m(\u001b[0m\u001b[0;34m*\u001b[0m\u001b[0margs\u001b[0m\u001b[0;34m,\u001b[0m \u001b[0;34m**\u001b[0m\u001b[0mkwds\u001b[0m\u001b[0;34m)\u001b[0m\u001b[0;34m\u001b[0m\u001b[0m\n\u001b[0m\u001b[1;32m    102\u001b[0m \u001b[0;34m\u001b[0m\u001b[0m\n\u001b[1;32m    103\u001b[0m         \u001b[0mnewfunc\u001b[0m \u001b[0;34m=\u001b[0m \u001b[0m_set_function_name\u001b[0m\u001b[0;34m(\u001b[0m\u001b[0mnewfunc\u001b[0m\u001b[0;34m,\u001b[0m \u001b[0mold_name\u001b[0m\u001b[0;34m)\u001b[0m\u001b[0;34m\u001b[0m\u001b[0m\n",
      "\u001b[0;32m~/anaconda3/lib/python3.6/site-packages/scipy/misc/pilutil.py\u001b[0m in \u001b[0;36mimread\u001b[0;34m(name, flatten, mode)\u001b[0m\n\u001b[1;32m    162\u001b[0m     \"\"\"\n\u001b[1;32m    163\u001b[0m \u001b[0;34m\u001b[0m\u001b[0m\n\u001b[0;32m--> 164\u001b[0;31m     \u001b[0mim\u001b[0m \u001b[0;34m=\u001b[0m \u001b[0mImage\u001b[0m\u001b[0;34m.\u001b[0m\u001b[0mopen\u001b[0m\u001b[0;34m(\u001b[0m\u001b[0mname\u001b[0m\u001b[0;34m)\u001b[0m\u001b[0;34m\u001b[0m\u001b[0m\n\u001b[0m\u001b[1;32m    165\u001b[0m     \u001b[0;32mreturn\u001b[0m \u001b[0mfromimage\u001b[0m\u001b[0;34m(\u001b[0m\u001b[0mim\u001b[0m\u001b[0;34m,\u001b[0m \u001b[0mflatten\u001b[0m\u001b[0;34m=\u001b[0m\u001b[0mflatten\u001b[0m\u001b[0;34m,\u001b[0m \u001b[0mmode\u001b[0m\u001b[0;34m=\u001b[0m\u001b[0mmode\u001b[0m\u001b[0;34m)\u001b[0m\u001b[0;34m\u001b[0m\u001b[0m\n\u001b[1;32m    166\u001b[0m \u001b[0;34m\u001b[0m\u001b[0m\n",
      "\u001b[0;32m~/anaconda3/lib/python3.6/site-packages/PIL/Image.py\u001b[0m in \u001b[0;36mopen\u001b[0;34m(fp, mode)\u001b[0m\n\u001b[1;32m   2541\u001b[0m \u001b[0;34m\u001b[0m\u001b[0m\n\u001b[1;32m   2542\u001b[0m     \u001b[0;32mif\u001b[0m \u001b[0mfilename\u001b[0m\u001b[0;34m:\u001b[0m\u001b[0;34m\u001b[0m\u001b[0m\n\u001b[0;32m-> 2543\u001b[0;31m         \u001b[0mfp\u001b[0m \u001b[0;34m=\u001b[0m \u001b[0mbuiltins\u001b[0m\u001b[0;34m.\u001b[0m\u001b[0mopen\u001b[0m\u001b[0;34m(\u001b[0m\u001b[0mfilename\u001b[0m\u001b[0;34m,\u001b[0m \u001b[0;34m\"rb\"\u001b[0m\u001b[0;34m)\u001b[0m\u001b[0;34m\u001b[0m\u001b[0m\n\u001b[0m\u001b[1;32m   2544\u001b[0m         \u001b[0mexclusive_fp\u001b[0m \u001b[0;34m=\u001b[0m \u001b[0;32mTrue\u001b[0m\u001b[0;34m\u001b[0m\u001b[0m\n\u001b[1;32m   2545\u001b[0m \u001b[0;34m\u001b[0m\u001b[0m\n",
      "\u001b[0;31mKeyboardInterrupt\u001b[0m: "
     ]
    }
   ],
   "source": [
    "batch_size =1\n",
    "input_size = (713,713)\n",
    "nb_classes = 5\n",
    "while 1:\n",
    "    random.shuffle(values)\n",
    "    images, labels = update_inputs(batch_size=batch_size,\n",
    "       input_size=input_size, num_classes=nb_classes)\n",
    "    for i, d in list(enumerate(values))[:1]:\n",
    "      #print(d['image'].split('_')[0])\n",
    "        if d['image'].split('_')[0] == 'a':\n",
    "            image_dir = os.path.join(datadir, \"imgs/apollo\")\n",
    "            anno_dir = os.path.join(datadir, \"maps_bordered/apollo\")\n",
    "        elif d['image'].split('_')[0] == '20':\n",
    "            image_dir = os.path.join(datadir, \"imgs/annotation\")\n",
    "            anno_dir = os.path.join(datadir, \"maps_bordered/annotation\")\n",
    "        else:\n",
    "            image_dir = os.path.join(datadir, \"imgs/cityscapes\")\n",
    "            anno_dir = os.path.join(datadir, \"maps_bordered/cityscapes\")\n",
    "        #   #print(y)\n",
    "    #   #print(d['anno'])\n",
    "    #   #print(\"Shape of y is {}\".format(y.shape))\n",
    "        print(os.path.join(anno_dir, d['anno']))\n",
    "        img = imresize(imread(os.path.join(image_dir, d['image']), mode='RGB'), input_size)\n",
    "        y = imread(os.path.join(anno_dir, d['anno']), mode='L')\n",
    "        h, w = input_size\n",
    "        #   #print(y)\n",
    "        y = zoom(y, (1.*h/y.shape[0], 1.*w/y.shape[1]), order=0, mode='nearest', prefilter=False)\n",
    "        print(np.unique(y))\n",
    "\n",
    "        # config class\n",
    "        y[y == 0] = 4 # void, trainID = 4\n",
    "        y[y == 90] = 0 #road, trainID = 0\n",
    "        y[y == 119] = 1 #sidewalk, trainID = 1\n",
    "        y[y == 33] = 2 #cub, trainID = 2\n",
    "        y[y == 81] = 3 #mycar, trainID = 3\n",
    "        print (np.unique(y))\n",
    "    # for i in range(y.shape[0]):\n",
    "    #     for j in range(y.shape[1]):\n",
    "    #         if y[i][j] == 90:\n",
    "    #             y[i][j] = 0\n",
    "    #         elif y[i][j] == 119:\n",
    "    #             y[i][j] = 1\n",
    "    #         else:\n",
    "    #             y[i][j] = 2\n",
    "      #print(\"Shape of y is {}\".format(y.shape))\n",
    "      #print(np.arange(nb_classes) == y[:,:,None])\n",
    "      #print(y[:,:,None])\n",
    "    #   y = (np.arange(nb_classes) == y[:,:,None]).astype('float32')\n",
    "    #   #print(\"Shape of y is {}\".format(y.shape))\n",
    "    #   #print(y[3])\n",
    "    #   assert y.shape[2] == nb_classes\n",
    "    #   images[i % batch_size] = img\n",
    "    #   labels[i % batch_size] = y"
   ]
  },
  {
   "cell_type": "code",
   "execution_count": 109,
   "metadata": {},
   "outputs": [],
   "source": [
    "y = (np.arange(5) == y[:,:,None]).astype('float32')"
   ]
  },
  {
   "cell_type": "code",
   "execution_count": 114,
   "metadata": {},
   "outputs": [
    {
     "data": {
      "text/plain": [
       "array([[0., 0., 1., 0., 0.],\n",
       "       [0., 0., 1., 0., 0.],\n",
       "       [0., 0., 1., 0., 0.],\n",
       "       ...,\n",
       "       [0., 0., 1., 0., 0.],\n",
       "       [0., 0., 1., 0., 0.],\n",
       "       [0., 0., 1., 0., 0.]], dtype=float32)"
      ]
     },
     "execution_count": 114,
     "metadata": {},
     "output_type": "execute_result"
    }
   ],
   "source": [
    "y[1:100][1:100][4]"
   ]
  },
  {
   "cell_type": "code",
   "execution_count": 72,
   "metadata": {},
   "outputs": [
    {
     "data": {
      "text/plain": [
       "array([[0., 0., 0., 0., 0.],\n",
       "       [0., 0., 0., 0., 0.],\n",
       "       [0., 0., 0., 0., 0.],\n",
       "       [0., 0., 0., 0., 0.],\n",
       "       [0., 0., 0., 0., 0.],\n",
       "       [0., 0., 0., 0., 0.],\n",
       "       [0., 0., 0., 0., 0.],\n",
       "       [0., 0., 0., 0., 0.],\n",
       "       [0., 0., 0., 0., 0.],\n",
       "       [0., 0., 0., 0., 0.],\n",
       "       [0., 0., 0., 0., 0.],\n",
       "       [0., 0., 0., 0., 0.],\n",
       "       [0., 0., 0., 0., 0.],\n",
       "       [0., 0., 0., 0., 0.],\n",
       "       [0., 0., 0., 0., 0.],\n",
       "       [0., 0., 0., 0., 0.],\n",
       "       [0., 0., 0., 0., 0.],\n",
       "       [0., 0., 0., 0., 0.],\n",
       "       [0., 0., 0., 0., 0.],\n",
       "       [0., 0., 0., 0., 0.],\n",
       "       [0., 0., 0., 0., 0.],\n",
       "       [0., 0., 0., 0., 0.],\n",
       "       [0., 0., 0., 0., 0.],\n",
       "       [0., 0., 0., 0., 0.],\n",
       "       [0., 0., 0., 0., 0.],\n",
       "       [0., 0., 0., 0., 0.],\n",
       "       [0., 0., 0., 0., 0.],\n",
       "       [0., 0., 0., 0., 0.],\n",
       "       [0., 0., 0., 0., 0.],\n",
       "       [0., 0., 0., 0., 0.],\n",
       "       [0., 0., 0., 0., 0.],\n",
       "       [0., 0., 0., 0., 0.],\n",
       "       [0., 0., 0., 0., 0.],\n",
       "       [0., 0., 0., 0., 0.],\n",
       "       [0., 0., 0., 0., 0.],\n",
       "       [0., 0., 0., 0., 0.],\n",
       "       [0., 0., 0., 0., 0.],\n",
       "       [0., 0., 0., 0., 0.],\n",
       "       [0., 0., 0., 0., 0.],\n",
       "       [0., 0., 0., 0., 0.],\n",
       "       [0., 0., 0., 0., 0.],\n",
       "       [0., 0., 0., 0., 0.],\n",
       "       [0., 0., 0., 0., 0.],\n",
       "       [0., 0., 0., 0., 0.],\n",
       "       [0., 0., 0., 0., 0.],\n",
       "       [0., 0., 0., 0., 0.],\n",
       "       [0., 0., 0., 0., 0.],\n",
       "       [0., 0., 0., 0., 0.],\n",
       "       [0., 0., 0., 0., 0.],\n",
       "       [0., 0., 0., 0., 0.],\n",
       "       [0., 0., 0., 0., 0.],\n",
       "       [0., 0., 0., 0., 0.],\n",
       "       [0., 0., 0., 0., 0.],\n",
       "       [0., 0., 0., 0., 0.],\n",
       "       [0., 0., 0., 0., 0.],\n",
       "       [0., 0., 0., 0., 0.],\n",
       "       [0., 0., 0., 0., 0.],\n",
       "       [0., 0., 0., 0., 0.],\n",
       "       [0., 0., 0., 0., 0.],\n",
       "       [0., 0., 0., 0., 0.],\n",
       "       [0., 0., 0., 0., 0.],\n",
       "       [0., 0., 0., 0., 0.],\n",
       "       [0., 0., 0., 0., 0.],\n",
       "       [0., 0., 0., 0., 0.],\n",
       "       [0., 0., 0., 0., 0.],\n",
       "       [0., 0., 0., 0., 0.],\n",
       "       [0., 0., 0., 0., 0.],\n",
       "       [0., 0., 0., 0., 0.],\n",
       "       [0., 0., 0., 0., 0.],\n",
       "       [0., 0., 0., 0., 0.],\n",
       "       [0., 0., 0., 0., 0.],\n",
       "       [0., 0., 0., 0., 0.],\n",
       "       [0., 0., 0., 0., 0.],\n",
       "       [0., 0., 0., 0., 0.],\n",
       "       [0., 0., 0., 0., 0.],\n",
       "       [0., 0., 0., 0., 0.],\n",
       "       [0., 0., 0., 0., 0.],\n",
       "       [0., 0., 0., 0., 0.],\n",
       "       [0., 0., 0., 0., 0.],\n",
       "       [0., 0., 0., 0., 0.],\n",
       "       [0., 0., 0., 0., 0.],\n",
       "       [0., 0., 0., 0., 0.],\n",
       "       [0., 0., 0., 0., 0.],\n",
       "       [0., 0., 0., 0., 0.],\n",
       "       [0., 0., 0., 0., 0.],\n",
       "       [0., 0., 0., 0., 0.],\n",
       "       [0., 0., 0., 0., 0.],\n",
       "       [0., 0., 0., 0., 0.],\n",
       "       [0., 0., 0., 0., 0.],\n",
       "       [0., 0., 0., 0., 0.],\n",
       "       [0., 0., 0., 0., 0.],\n",
       "       [0., 0., 0., 0., 0.],\n",
       "       [0., 0., 0., 0., 0.],\n",
       "       [0., 0., 0., 0., 0.],\n",
       "       [0., 0., 0., 0., 0.],\n",
       "       [0., 0., 0., 0., 0.],\n",
       "       [0., 0., 0., 0., 0.],\n",
       "       [0., 0., 0., 0., 0.],\n",
       "       [0., 0., 0., 0., 0.],\n",
       "       [0., 0., 0., 0., 0.],\n",
       "       [0., 0., 0., 0., 0.],\n",
       "       [0., 0., 0., 0., 0.],\n",
       "       [0., 0., 0., 0., 0.],\n",
       "       [0., 0., 0., 0., 0.],\n",
       "       [0., 0., 0., 0., 0.],\n",
       "       [0., 0., 0., 0., 0.],\n",
       "       [0., 0., 0., 0., 0.],\n",
       "       [0., 0., 0., 0., 0.],\n",
       "       [0., 0., 0., 0., 0.],\n",
       "       [0., 0., 0., 0., 0.],\n",
       "       [0., 0., 0., 0., 0.],\n",
       "       [0., 0., 0., 0., 0.],\n",
       "       [0., 0., 0., 0., 0.],\n",
       "       [0., 0., 0., 0., 0.],\n",
       "       [0., 0., 0., 0., 0.],\n",
       "       [0., 0., 0., 0., 0.],\n",
       "       [0., 0., 0., 0., 0.],\n",
       "       [0., 0., 0., 0., 0.],\n",
       "       [0., 0., 0., 0., 0.],\n",
       "       [0., 0., 0., 0., 0.],\n",
       "       [0., 0., 0., 0., 0.],\n",
       "       [0., 0., 0., 0., 0.],\n",
       "       [0., 0., 0., 0., 0.],\n",
       "       [0., 0., 0., 0., 0.],\n",
       "       [0., 0., 0., 0., 0.],\n",
       "       [0., 0., 0., 0., 0.],\n",
       "       [0., 0., 0., 0., 0.],\n",
       "       [0., 0., 0., 0., 0.],\n",
       "       [0., 0., 0., 0., 0.],\n",
       "       [0., 0., 0., 0., 0.],\n",
       "       [0., 0., 0., 0., 0.],\n",
       "       [0., 0., 0., 0., 0.],\n",
       "       [0., 0., 0., 0., 0.],\n",
       "       [0., 0., 0., 0., 0.],\n",
       "       [0., 0., 0., 0., 0.],\n",
       "       [0., 0., 0., 0., 0.],\n",
       "       [0., 0., 0., 0., 0.],\n",
       "       [0., 0., 0., 0., 0.],\n",
       "       [0., 0., 0., 0., 0.],\n",
       "       [0., 0., 0., 0., 0.],\n",
       "       [0., 0., 0., 0., 0.],\n",
       "       [0., 0., 0., 0., 0.],\n",
       "       [0., 0., 0., 0., 0.],\n",
       "       [0., 0., 0., 0., 0.],\n",
       "       [0., 0., 0., 0., 0.],\n",
       "       [0., 0., 0., 0., 0.],\n",
       "       [0., 0., 0., 0., 0.],\n",
       "       [0., 0., 0., 0., 0.],\n",
       "       [0., 0., 0., 0., 0.],\n",
       "       [0., 0., 0., 0., 0.],\n",
       "       [0., 0., 0., 0., 0.],\n",
       "       [0., 0., 0., 0., 0.],\n",
       "       [0., 0., 0., 0., 0.],\n",
       "       [0., 0., 0., 0., 0.],\n",
       "       [0., 0., 0., 0., 0.],\n",
       "       [0., 0., 0., 0., 0.],\n",
       "       [0., 0., 0., 0., 0.],\n",
       "       [0., 0., 0., 0., 0.],\n",
       "       [0., 0., 0., 0., 0.],\n",
       "       [0., 0., 0., 0., 0.],\n",
       "       [0., 0., 0., 0., 0.],\n",
       "       [0., 0., 0., 0., 0.],\n",
       "       [0., 0., 0., 0., 0.],\n",
       "       [0., 0., 0., 0., 0.],\n",
       "       [0., 0., 0., 0., 0.],\n",
       "       [0., 0., 0., 0., 0.],\n",
       "       [0., 0., 0., 0., 0.],\n",
       "       [0., 0., 0., 0., 0.],\n",
       "       [0., 0., 0., 0., 0.],\n",
       "       [0., 0., 0., 0., 0.],\n",
       "       [0., 0., 0., 0., 0.],\n",
       "       [0., 0., 0., 0., 0.],\n",
       "       [0., 0., 0., 0., 0.],\n",
       "       [0., 0., 0., 0., 0.],\n",
       "       [0., 0., 0., 0., 0.],\n",
       "       [0., 0., 0., 0., 0.],\n",
       "       [0., 0., 0., 0., 0.],\n",
       "       [0., 0., 0., 0., 0.],\n",
       "       [0., 0., 0., 0., 0.],\n",
       "       [0., 0., 0., 0., 0.],\n",
       "       [0., 0., 0., 0., 0.],\n",
       "       [0., 0., 0., 0., 0.],\n",
       "       [0., 0., 0., 0., 0.],\n",
       "       [0., 0., 0., 0., 0.],\n",
       "       [0., 0., 0., 0., 0.],\n",
       "       [0., 0., 0., 0., 0.],\n",
       "       [0., 0., 0., 0., 0.],\n",
       "       [0., 0., 0., 0., 0.],\n",
       "       [0., 0., 0., 0., 0.],\n",
       "       [0., 0., 0., 0., 0.],\n",
       "       [0., 0., 0., 0., 0.],\n",
       "       [0., 0., 0., 0., 0.],\n",
       "       [0., 0., 0., 0., 0.],\n",
       "       [0., 0., 0., 0., 0.],\n",
       "       [0., 0., 0., 0., 0.],\n",
       "       [0., 0., 0., 0., 0.],\n",
       "       [0., 0., 0., 0., 0.],\n",
       "       [0., 0., 0., 0., 0.],\n",
       "       [0., 0., 0., 0., 0.],\n",
       "       [0., 0., 0., 0., 0.]], dtype=float32)"
      ]
     },
     "execution_count": 72,
     "metadata": {},
     "output_type": "execute_result"
    }
   ],
   "source": [
    "y[500][300:500]"
   ]
  },
  {
   "cell_type": "code",
   "execution_count": 32,
   "metadata": {},
   "outputs": [
    {
     "data": {
      "text/plain": [
       "(5,)"
      ]
     },
     "execution_count": 32,
     "metadata": {},
     "output_type": "execute_result"
    }
   ],
   "source": [
    "np.arange(5).shape"
   ]
  },
  {
   "cell_type": "code",
   "execution_count": 161,
   "metadata": {},
   "outputs": [],
   "source": [
    "random.shuffle(values)"
   ]
  },
  {
   "cell_type": "code",
   "execution_count": 162,
   "metadata": {},
   "outputs": [
    {
     "data": {
      "text/plain": [
       "[{'anno': 'aachen_000107_000019_gtFine_labelIds.png',\n",
       "  'image': 'aachen_000104_000019_leftImg8bit.png'}]"
      ]
     },
     "execution_count": 162,
     "metadata": {},
     "output_type": "execute_result"
    }
   ],
   "source": [
    "values"
   ]
  },
  {
   "cell_type": "code",
   "execution_count": 153,
   "metadata": {},
   "outputs": [
    {
     "data": {
      "text/plain": [
       "'aachen_000107_000019_gtFine_labelIds.png'"
      ]
     },
     "execution_count": 153,
     "metadata": {},
     "output_type": "execute_result"
    }
   ],
   "source": [
    "values[0]['anno']"
   ]
  },
  {
   "cell_type": "code",
   "execution_count": 55,
   "metadata": {},
   "outputs": [
    {
     "name": "stdout",
     "output_type": "stream",
     "text": [
      "aachen_000149_000019_leftImg8bit.png\n",
      "aachen_000137_000019_leftImg8bit.png\n",
      "aachen_000147_000019_leftImg8bit.png\n",
      "aachen_000026_000019_leftImg8bit.png\n",
      "aachen_000068_000019_leftImg8bit.png\n",
      "aachen_000041_000019_leftImg8bit.png\n",
      "aachen_000050_000019_leftImg8bit.png\n",
      "aachen_000145_000019_leftImg8bit.png\n",
      "aachen_000047_000019_leftImg8bit.png\n",
      "aachen_000004_000019_leftImg8bit.png\n",
      "aachen_000021_000019_leftImg8bit.png\n",
      "aachen_000098_000019_leftImg8bit.png\n",
      "aachen_000040_000019_leftImg8bit.png\n",
      "aachen_000059_000019_leftImg8bit.png\n",
      "aachen_000017_000019_leftImg8bit.png\n",
      "aachen_000130_000019_leftImg8bit.png\n",
      "aachen_000099_000019_leftImg8bit.png\n",
      "aachen_000072_000019_leftImg8bit.png\n",
      "aachen_000007_000019_leftImg8bit.png\n",
      "aachen_000121_000019_leftImg8bit.png\n",
      "aachen_000012_000019_leftImg8bit.png\n",
      "aachen_000144_000019_leftImg8bit.png\n",
      "aachen_000039_000019_leftImg8bit.png\n",
      "aachen_000131_000019_leftImg8bit.png\n",
      "aachen_000151_000019_leftImg8bit.png\n",
      "aachen_000055_000019_leftImg8bit.png\n",
      "aachen_000034_000019_leftImg8bit.png\n",
      "aachen_000118_000019_leftImg8bit.png\n",
      "aachen_000046_000019_leftImg8bit.png\n",
      "aachen_000048_000019_leftImg8bit.png\n",
      "aachen_000111_000019_leftImg8bit.png\n",
      "aachen_000025_000019_leftImg8bit.png\n",
      "aachen_000172_000019_leftImg8bit.png\n",
      "aachen_000073_000019_leftImg8bit.png\n",
      "aachen_000141_000019_leftImg8bit.png\n",
      "aachen_000018_000019_leftImg8bit.png\n",
      "aachen_000006_000019_leftImg8bit.png\n",
      "aachen_000028_000019_leftImg8bit.png\n",
      "aachen_000127_000019_leftImg8bit.png\n",
      "aachen_000088_000019_leftImg8bit.png\n",
      "aachen_000065_000019_leftImg8bit.png\n",
      "aachen_000153_000019_leftImg8bit.png\n",
      "aachen_000009_000019_leftImg8bit.png\n",
      "aachen_000081_000019_leftImg8bit.png\n",
      "aachen_000103_000019_leftImg8bit.png\n",
      "aachen_000095_000019_leftImg8bit.png\n",
      "aachen_000093_000019_leftImg8bit.png\n",
      "aachen_000005_000019_leftImg8bit.png\n",
      "aachen_000029_000019_leftImg8bit.png\n",
      "aachen_000032_000019_leftImg8bit.png\n",
      "aachen_000061_000019_leftImg8bit.png\n",
      "aachen_000020_000019_leftImg8bit.png\n",
      "aachen_000013_000019_leftImg8bit.png\n",
      "aachen_000097_000019_leftImg8bit.png\n",
      "aachen_000160_000019_leftImg8bit.png\n",
      "aachen_000035_000019_leftImg8bit.png\n",
      "aachen_000143_000019_leftImg8bit.png\n",
      "aachen_000136_000019_leftImg8bit.png\n",
      "aachen_000011_000019_leftImg8bit.png\n",
      "aachen_000116_000019_leftImg8bit.png\n",
      "aachen_000165_000019_leftImg8bit.png\n",
      "aachen_000052_000019_leftImg8bit.png\n",
      "aachen_000129_000019_leftImg8bit.png\n",
      "aachen_000146_000019_leftImg8bit.png\n",
      "aachen_000033_000019_leftImg8bit.png\n",
      "aachen_000167_000019_leftImg8bit.png\n",
      "aachen_000119_000019_leftImg8bit.png\n",
      "aachen_000023_000019_leftImg8bit.png\n",
      "aachen_000123_000019_leftImg8bit.png\n",
      "aachen_000168_000019_leftImg8bit.png\n",
      "aachen_000108_000019_leftImg8bit.png\n",
      "aachen_000117_000019_leftImg8bit.png\n",
      "aachen_000058_000019_leftImg8bit.png\n",
      "aachen_000079_000019_leftImg8bit.png\n",
      "aachen_000080_000019_leftImg8bit.png\n",
      "aachen_000003_000019_leftImg8bit.png\n",
      "aachen_000169_000019_leftImg8bit.png\n",
      "aachen_000062_000019_leftImg8bit.png\n",
      "aachen_000163_000019_leftImg8bit.png\n",
      "aachen_000054_000019_leftImg8bit.png\n",
      "aachen_000158_000019_leftImg8bit.png\n",
      "aachen_000109_000019_leftImg8bit.png\n",
      "aachen_000022_000019_leftImg8bit.png\n",
      "aachen_000038_000019_leftImg8bit.png\n",
      "aachen_000155_000019_leftImg8bit.png\n",
      "aachen_000082_000019_leftImg8bit.png\n",
      "aachen_000078_000019_leftImg8bit.png\n",
      "aachen_000134_000019_leftImg8bit.png\n",
      "aachen_000110_000019_leftImg8bit.png\n",
      "aachen_000135_000019_leftImg8bit.png\n",
      "aachen_000112_000019_leftImg8bit.png\n",
      "aachen_000016_000019_leftImg8bit.png\n",
      "aachen_000170_000019_leftImg8bit.png\n",
      "aachen_000101_000019_leftImg8bit.png\n",
      "aachen_000087_000019_leftImg8bit.png\n",
      "aachen_000015_000019_leftImg8bit.png\n",
      "aachen_000077_000019_leftImg8bit.png\n",
      "aachen_000133_000019_leftImg8bit.png\n",
      "aachen_000045_000019_leftImg8bit.png\n",
      "aachen_000162_000019_leftImg8bit.png\n",
      "aachen_000036_000019_leftImg8bit.png\n",
      "aachen_000066_000019_leftImg8bit.png\n",
      "aachen_000138_000019_leftImg8bit.png\n",
      "aachen_000126_000019_leftImg8bit.png\n",
      "aachen_000074_000019_leftImg8bit.png\n",
      "aachen_000161_000019_leftImg8bit.png\n",
      "aachen_000139_000019_leftImg8bit.png\n",
      "aachen_000150_000019_leftImg8bit.png\n",
      "aachen_000164_000019_leftImg8bit.png\n",
      "aachen_000148_000019_leftImg8bit.png\n",
      "aachen_000064_000019_leftImg8bit.png\n",
      "aachen_000024_000019_leftImg8bit.png\n",
      "aachen_000102_000019_leftImg8bit.png\n",
      "aachen_000114_000019_leftImg8bit.png\n",
      "aachen_000090_000019_leftImg8bit.png\n",
      "aachen_000124_000019_leftImg8bit.png\n",
      "aachen_000076_000019_leftImg8bit.png\n",
      "aachen_000128_000019_leftImg8bit.png\n",
      "aachen_000067_000019_leftImg8bit.png\n",
      "aachen_000166_000019_leftImg8bit.png\n",
      "aachen_000092_000019_leftImg8bit.png\n",
      "aachen_000113_000019_leftImg8bit.png\n",
      "aachen_000085_000019_leftImg8bit.png\n",
      "aachen_000001_000019_leftImg8bit.png\n",
      "aachen_000053_000019_leftImg8bit.png\n",
      "aachen_000014_000019_leftImg8bit.png\n",
      "aachen_000008_000019_leftImg8bit.png\n",
      "aachen_000091_000019_leftImg8bit.png\n",
      "aachen_000056_000019_leftImg8bit.png\n",
      "aachen_000060_000019_leftImg8bit.png\n",
      "aachen_000086_000019_leftImg8bit.png\n",
      "aachen_000057_000019_leftImg8bit.png\n",
      "aachen_000120_000019_leftImg8bit.png\n",
      "aachen_000106_000019_leftImg8bit.png\n",
      "aachen_000159_000019_leftImg8bit.png\n",
      "aachen_000069_000019_leftImg8bit.png\n",
      "aachen_000156_000019_leftImg8bit.png\n",
      "aachen_000037_000019_leftImg8bit.png\n",
      "aachen_000125_000019_leftImg8bit.png\n",
      "aachen_000173_000019_leftImg8bit.png\n",
      "aachen_000142_000019_leftImg8bit.png\n",
      "aachen_000132_000019_leftImg8bit.png\n",
      "aachen_000107_000019_leftImg8bit.png\n",
      "aachen_000063_000019_leftImg8bit.png\n",
      "aachen_000171_000019_leftImg8bit.png\n",
      "aachen_000002_000019_leftImg8bit.png\n",
      "aachen_000027_000019_leftImg8bit.png\n",
      "aachen_000122_000019_leftImg8bit.png\n",
      "aachen_000100_000019_leftImg8bit.png\n",
      "aachen_000075_000019_leftImg8bit.png\n",
      "aachen_000019_000019_leftImg8bit.png\n",
      "aachen_000084_000019_leftImg8bit.png\n",
      "aachen_000157_000019_leftImg8bit.png\n",
      "aachen_000010_000019_leftImg8bit.png\n",
      "aachen_000089_000019_leftImg8bit.png\n",
      "aachen_000043_000019_leftImg8bit.png\n",
      "aachen_000031_000019_leftImg8bit.png\n",
      "aachen_000049_000019_leftImg8bit.png\n",
      "aachen_000042_000019_leftImg8bit.png\n",
      "aachen_000030_000019_leftImg8bit.png\n",
      "aachen_000096_000019_leftImg8bit.png\n",
      "aachen_000115_000019_leftImg8bit.png\n",
      "aachen_000154_000019_leftImg8bit.png\n",
      "aachen_000152_000019_leftImg8bit.png\n",
      "aachen_000051_000019_leftImg8bit.png\n",
      "aachen_000070_000019_leftImg8bit.png\n",
      "aachen_000071_000019_leftImg8bit.png\n",
      "aachen_000140_000019_leftImg8bit.png\n",
      "aachen_000094_000019_leftImg8bit.png\n",
      "aachen_000000_000019_leftImg8bit.png\n",
      "aachen_000044_000019_leftImg8bit.png\n",
      "aachen_000083_000019_leftImg8bit.png\n",
      "aachen_000105_000019_leftImg8bit.png\n",
      "aachen_000104_000019_leftImg8bit.png\n"
     ]
    }
   ],
   "source": [
    "for image_path in image_paths:\n",
    "    nmb = image_path.split(separator)[0]\n",
    "    data[nmb]['image'] = image_path\n",
    "    print (data[nmb]['image'])"
   ]
  },
  {
   "cell_type": "markdown",
   "metadata": {},
   "source": [
    "## Test config GPU"
   ]
  },
  {
   "cell_type": "code",
   "execution_count": 1,
   "metadata": {},
   "outputs": [],
   "source": [
    "import tensorflow as tf"
   ]
  },
  {
   "cell_type": "code",
   "execution_count": 2,
   "metadata": {},
   "outputs": [],
   "source": [
    "sess = tf.Session()"
   ]
  },
  {
   "cell_type": "code",
   "execution_count": 3,
   "metadata": {},
   "outputs": [],
   "source": [
    "hello_world = tf.constant(\"Hello, world!\")"
   ]
  },
  {
   "cell_type": "code",
   "execution_count": 5,
   "metadata": {},
   "outputs": [
    {
     "name": "stdout",
     "output_type": "stream",
     "text": [
      "b'Hello, world!'\n"
     ]
    }
   ],
   "source": [
    "print (sess.run(hello_world))"
   ]
  },
  {
   "cell_type": "code",
   "execution_count": 7,
   "metadata": {},
   "outputs": [
    {
     "name": "stdout",
     "output_type": "stream",
     "text": [
      "56088\n"
     ]
    }
   ],
   "source": [
    "print (sess.run(tf.constant(123)*tf.constant(456)))"
   ]
  },
  {
   "cell_type": "code",
   "execution_count": 12,
   "metadata": {},
   "outputs": [
    {
     "name": "stdout",
     "output_type": "stream",
     "text": [
      "<bound method BaseSession.run of <tensorflow.python.client.session.Session object at 0x7f62e9ad4c88>>\n"
     ]
    }
   ],
   "source": [
    "with tf.device('/gpu:0'):\n",
    "\n",
    "    a = tf.constant([1.0, 2.0, 3.0, 4.0, 5.0, 6.0], shape=[2, 3], name='a')\n",
    "\n",
    "    b = tf.constant([1.0, 2.0, 3.0, 4.0, 5.0, 6.0], shape=[3, 2], name='b')\n",
    "\n",
    "    c = tf.matmul(a, b)\n",
    "\n",
    "# Creates a session with log_device_placement set to True.\n",
    "\n",
    "sess = tf.Session(config=tf.ConfigProto(log_device_placement=True))\n",
    "\n",
    "# Runs the op.\n",
    "\n",
    "print (sess.run)"
   ]
  },
  {
   "cell_type": "code",
   "execution_count": 1,
   "metadata": {},
   "outputs": [
    {
     "name": "stderr",
     "output_type": "stream",
     "text": [
      "/home/thaovt7/anaconda3/lib/python3.6/site-packages/h5py/__init__.py:36: FutureWarning: Conversion of the second argument of issubdtype from `float` to `np.floating` is deprecated. In future, it will be treated as `np.float64 == np.dtype(float).type`.\n",
      "  from ._conv import register_converters as _register_converters\n"
     ]
    },
    {
     "name": "stdout",
     "output_type": "stream",
     "text": [
      "[name: \"/device:CPU:0\"\n",
      "device_type: \"CPU\"\n",
      "memory_limit: 268435456\n",
      "locality {\n",
      "}\n",
      "incarnation: 6576996484482223453\n",
      ", name: \"/device:GPU:0\"\n",
      "device_type: \"GPU\"\n",
      "memory_limit: 91291648\n",
      "locality {\n",
      "  bus_id: 1\n",
      "  links {\n",
      "  }\n",
      "}\n",
      "incarnation: 8394015821686840336\n",
      "physical_device_desc: \"device: 0, name: GeForce GTX 1080 Ti, pci bus id: 0000:01:00.0, compute capability: 6.1\"\n",
      "]\n"
     ]
    }
   ],
   "source": [
    "from tensorflow.python.client import device_lib\n",
    "print(device_lib.list_local_devices())"
   ]
  },
  {
   "cell_type": "code",
   "execution_count": null,
   "metadata": {},
   "outputs": [],
   "source": []
  }
 ],
 "metadata": {
  "kernelspec": {
   "display_name": "Python 3",
   "language": "python",
   "name": "python3"
  },
  "language_info": {
   "codemirror_mode": {
    "name": "ipython",
    "version": 3
   },
   "file_extension": ".py",
   "mimetype": "text/x-python",
   "name": "python",
   "nbconvert_exporter": "python",
   "pygments_lexer": "ipython3",
   "version": "3.6.4"
  }
 },
 "nbformat": 4,
 "nbformat_minor": 2
}
